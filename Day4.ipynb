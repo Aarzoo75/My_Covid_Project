{
 "cells": [
  {
   "cell_type": "markdown",
   "metadata": {},
   "source": [
    "Covid 19 case statistics of MUMBAI"
   ]
  },
  {
   "cell_type": "code",
   "execution_count": null,
   "metadata": {},
   "outputs": [],
   "source": [
    "no_of_infected_till_date=84524"
   ]
  },
  {
   "cell_type": "code",
   "execution_count": null,
   "metadata": {},
   "outputs": [],
   "source": [
    "no_of_recovered_till_date=55884\n",
    "no_of_deaths_till_date=4899"
   ]
  },
  {
   "cell_type": "code",
   "execution_count": null,
   "metadata": {},
   "outputs": [],
   "source": [
    "ifr_mumbai=(no_of_infected_till_date - no_of_recovered_till_date)/no_of_deaths_till_date"
   ]
  },
  {
   "cell_type": "code",
   "execution_count": null,
   "metadata": {},
   "outputs": [],
   "source": [
    "cmr_mumbai=no_of_deaths_till_date/no_of_infected_till_date"
   ]
  },
  {
   "cell_type": "code",
   "execution_count": null,
   "metadata": {},
   "outputs": [],
   "source": [
    "print(\"No. of Covid 19 infected till date in Mumbai is: {}\".format(no_of_infected_till_date))\n",
    "print(\"No. of Covid 19 recovered patients till date in Mumbai is: {}\".format(no_of_recovered_till_date))\n",
    "print(\"No. of Covid 19 death cases till date in Mumbai is: {}\".format(no_of_deaths_till_date))\n",
    "print(\"IFR of Mumbai is: {}\".format(ifr_mumbai))\n",
    "print(\"CMR of Mumbai is: {}\".format(cmr_mumbai))"
   ]
  }
 ],
 "metadata": {
  "kernelspec": {
   "display_name": "Python 3",
   "language": "python",
   "name": "python3"
  },
  "language_info": {
   "codemirror_mode": {
    "name": "ipython",
    "version": 3
   },
   "file_extension": ".py",
   "mimetype": "text/x-python",
   "name": "python",
   "nbconvert_exporter": "python",
   "pygments_lexer": "ipython3",
   "version": "3.8.3"
  }
 },
 "nbformat": 4,
 "nbformat_minor": 4
}
